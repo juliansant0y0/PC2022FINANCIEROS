{
  "nbformat": 4,
  "nbformat_minor": 0,
  "metadata": {
    "colab": {
      "provenance": []
    },
    "kernelspec": {
      "name": "python3",
      "display_name": "Python 3"
    },
    "language_info": {
      "name": "python"
    }
  },
  "cells": [
    {
      "cell_type": "markdown",
      "source": [
        "#Listas por comprensión\n",
        "\n",
        "Explicación\n",
        "\n",
        "\n"
      ],
      "metadata": {
        "id": "Lf4vG7zWl5zy"
      }
    },
    {
      "cell_type": "code",
      "source": [
        "#Jesus\n",
        "n=int(input(\"Hasta que número quieres imprimir los pares e impares: \"))\n",
        "pares=[número for número in range(0,n+1) if número%2==0]\n",
        "print(pares)\n",
        "impares=[número for número in range(0,n+1) if número%2!=0]\n",
        "print(impares)"
      ],
      "metadata": {
        "id": "XTQqJo_vmCnA"
      },
      "execution_count": null,
      "outputs": []
    },
    {
      "cell_type": "code",
      "source": [
        "#Jesus\n",
        "num=int(input(\"Hasta que número quieres imprimir los pares e impares: \"))\n",
        "def hola(n): \n",
        " pares=[número for número in range(0,n+1) if número%2==0]\n",
        " print(pares)\n",
        " impares=[número for número in range(0,n+1) if número%2!=0]\n",
        " print(impares)\n",
        "hola(num)"
      ],
      "metadata": {
        "id": "8o8uLBElmguo"
      },
      "execution_count": null,
      "outputs": []
    },
    {
      "cell_type": "code",
      "source": [
        "#Jesus\n",
        "num=int(input(\"Hasta que número quieres imprimir los pares e impares: \"))\n",
        "mi_lista=[n for n in range(0,num+1)]\n",
        "pares=list(filter(lambda num: num%2==0,mi_lista))\n",
        "print(pares)\n",
        "impares=list(filter(lambda num: num%2!=0,mi_lista))\n",
        "print(impares)"
      ],
      "metadata": {
        "id": "3YAkrFrSmpVm"
      },
      "execution_count": null,
      "outputs": []
    },
    {
      "cell_type": "code",
      "source": [],
      "metadata": {
        "id": "YUI-9cAspZjG"
      },
      "execution_count": null,
      "outputs": []
    }
  ]
}